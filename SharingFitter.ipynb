{
 "cells": [
  {
   "cell_type": "code",
   "execution_count": 1,
   "metadata": {},
   "outputs": [],
   "source": [
    "import numpy as np\n",
    "import pandas as pd\n",
    "import os\n",
    "import matplotlib.pyplot as plt\n",
    "import statsmodels.api as sm\n",
    "%matplotlib inline"
   ]
  },
  {
   "cell_type": "code",
   "execution_count": 2,
   "metadata": {},
   "outputs": [],
   "source": [
    "D = np.load('drifting_gratings_data.npz')\n",
    "binned_spikes = D['binned_spikes']\n",
    "stim = D['stim_array']\n",
    "CCmaxs = D['CCmaxs']\n",
    "bin_len = 0.01\n",
    "\n",
    "D = np.load('cell_types71.npz')\n",
    "cell_types = D['cell_types']"
   ]
  },
  {
   "cell_type": "code",
   "execution_count": 3,
   "metadata": {},
   "outputs": [
    {
     "name": "stdout",
     "output_type": "stream",
     "text": [
      "(array(['exc_VISp_1', 'exc_VISp_5', 'inh_VISp_1', 'inh_VISp_4',\n",
      "       'inh_VISp_5'], dtype='|S10'), array([ 3,  3,  4,  2, 16]))\n",
      "0.9199474554408273\n"
     ]
    }
   ],
   "source": [
    "ord_idxs = np.argsort(CCmaxs)[-30:]\n",
    "ord_idxs = np.concatenate((ord_idxs[:-12],ord_idxs[-11:-6],ord_idxs[-5:]))\n",
    "ord_types = cell_types[ord_idxs]\n",
    "print np.unique(cell_types[ord_idxs],return_counts=True)\n",
    "print CCmaxs[ord_idxs[-1]]"
   ]
  },
  {
   "cell_type": "code",
   "execution_count": 51,
   "metadata": {},
   "outputs": [],
   "source": [
    "#helper functions for fitting GLM models\n",
    "from scipy.stats import pearsonr\n",
    "\n",
    "def construct_Xdsn(flat_stimulus, binned_spikes, d):\n",
    "    T = binned_spikes.size # T is number of time bins\n",
    "    (M,T1) = flat_stimulus.shape # M is the size of a stimulus\n",
    "    \n",
    "    assert T==T1, \"arrays have different number of time samples\"\n",
    "    d1,d2 = d\n",
    "    dmax = max(d)\n",
    "    binned_spikes = np.concatenate((np.zeros((dmax,)),binned_spikes))\n",
    "    flat_stimulus = np.concatenate((np.zeros((M,dmax)),flat_stimulus),axis=1)\n",
    "    T = binned_spikes.size\n",
    "    X_dsn = np.ones((T-dmax,M*d1+d2+1))\n",
    "    for t in range(T-dmax):\n",
    "        X_dsn[t,:M*d1] = flat_stimulus[:,t+dmax+1-d1:t+dmax+1].reshape((1,-1))  #stimulus inputs\n",
    "        X_dsn[t,M*d1:-1] = np.flip(binned_spikes[t+dmax-d2:t+dmax],axis=0).reshape((1,-1)) #spike inputs\n",
    "    return X_dsn\n",
    "\n",
    "def fit_GLM(stim,spks,d,val_stim=None,val_spks=None):\n",
    "    d1,d2 = d\n",
    "    dmax = max(d)\n",
    "    model =  sm.GLM(spks.reshape([-1,1]),construct_Xdsn(stim,spks,d),family = sm.families.Poisson())\n",
    "    model_results = model.fit()\n",
    "    p = model_results.params\n",
    "    se = model_results.bse\n",
    "    b = p[-1]\n",
    "    bse = se[-1]\n",
    "    stim_filt = p[:-1-d2]\n",
    "    stim_se = se[:-1-d2]\n",
    "    spk_filt = p[-1-d2:-1]\n",
    "    spk_se = se[-1-d2:-1]\n",
    "    \n",
    "    t_filt = np.arange(-6,7)\n",
    "    sig = 1.5\n",
    "    filt = np.exp(-np.square(t_filt)/(sig**2*2))\n",
    "    filt = filt/np.sum(filt)\n",
    "    \n",
    "    train_nnll = -model_results.llf/(spks.shape[-1]-dmax)\n",
    "    smooth_spks = np.convolve(spks,filt,mode='same')\n",
    "    train_corr = pearsonr(model.predict(p),smooth_spks)[0]\n",
    "    if val_stim is not None:\n",
    "        val_model = sm.GLM(val_spks.reshape([-1,1]),construct_Xdsn(val_stim,val_spks,d),family = sm.families.Poisson())\n",
    "        val_nnll = -val_model.loglike(p)/(spks.shape[-1]-dmax)\n",
    "        smooth_val_spks = np.convolve(val_spks,filt,mode='same')\n",
    "        val_corr = pearsonr(model.predict(p),smooth_val_spks)[0]\n",
    "        return stim_filt, spk_filt, b, stim_se, spk_se, bse, train_nnll, train_corr, val_nnll, val_corr\n",
    "    return stim_filt, spk_filt, b, stim_se, spk_se, bse, train_nnll, train_corr\n",
    "\n"
   ]
  },
  {
   "cell_type": "code",
   "execution_count": 20,
   "metadata": {},
   "outputs": [],
   "source": [
    "conds = np.unique(stim,axis=1)  \n",
    "mod_stim = np.zeros((conds.shape[1],stim.shape[1]))\n",
    "for t in range(stim.shape[1]):\n",
    "    ind = np.argwhere(np.all(stim[:,t:t+1]-conds==0,axis=0))\n",
    "    mod_stim[ind,t] = 1"
   ]
  },
  {
   "cell_type": "code",
   "execution_count": 29,
   "metadata": {},
   "outputs": [],
   "source": [
    "# st = np.concatenate((np.zeros((mod_stim.shape[0],1)),np.diff(mod_stim,axis=1)),axis=1)>0\n",
    "# print st.shape, binned_spikes.shape\n",
    "\n",
    "K = 3 # number of harmonics\n",
    "L = 2*K+1\n",
    "conds = np.unique(stim,axis=1)  \n",
    "mod_stim_sin = np.zeros((L*(conds.shape[1]-1),stim.shape[1]))\n",
    "ind_old = -1\n",
    "for t in range(stim.shape[1]):\n",
    "    if stim[0,t]>0:\n",
    "        ind = np.argwhere(np.all(stim[:,t:t+1]-conds==0,axis=0))\n",
    "        if ind!=ind_old:\n",
    "            t0=t\n",
    "            ind_old=ind\n",
    "        mod_stim_sin[(ind-1)*L,t] = 1\n",
    "        for k in range(K):\n",
    "            mod_stim_sin[(ind-1)*L+2*k+1,t] = np.cos(2.0*np.pi*(k+1)*stim[0,t]*(t-t0)*bin_len)\n",
    "            mod_stim_sin[(ind-1)*L+2*k+2,t] = np.sin(2.0*np.pi*(k+1)*stim[0,t]*(t-t0)*bin_len)\n",
    "        \n",
    "    else:\n",
    "        ind_old = -1"
   ]
  },
  {
   "cell_type": "code",
   "execution_count": 58,
   "metadata": {},
   "outputs": [],
   "source": [
    "mod_stim_start = np.concatenate((np.zeros((mod_stim.shape[0],1)),np.diff(mod_stim,axis=1)),axis=1)>0"
   ]
  },
  {
   "cell_type": "code",
   "execution_count": 14,
   "metadata": {},
   "outputs": [
    {
     "data": {
      "text/plain": [
       "(-0.5, 380616.5, 279.5, -0.5)"
      ]
     },
     "execution_count": 14,
     "metadata": {},
     "output_type": "execute_result"
    },
    {
     "data": {
      "image/png": "[encoded data removed]",
      "text/plain": [
       "<Figure size 432x288 with 1 Axes>"
      ]
     },
     "metadata": {},
     "output_type": "display_data"
    }
   ],
   "source": [
    "# # print np.unique(mod_stim_sin)\n",
    "# x = np.hstack((mod_stim[:,:64000],mod_stim[:,156000:224000],mod_stim[:,316000:]))\n",
    "# # plt.imshow(x,cmap='Greys')\n",
    "plt.imshow(mod_stim_sin)\n",
    "plt.axis('tight')"
   ]
  },
  {
   "cell_type": "code",
   "execution_count": 31,
   "metadata": {},
   "outputs": [
    {
     "name": "stdout",
     "output_type": "stream",
     "text": [
      "[[0 1 2 3]\n",
      " [4 5 6 7]] [[0 4 1 5 2 6 3 7]]\n"
     ]
    }
   ],
   "source": [
    "A = np.arange(8).reshape(2,4)\n",
    "print A, A.T.reshape(1,-1)"
   ]
  },
  {
   "cell_type": "code",
   "execution_count": null,
   "metadata": {},
   "outputs": [],
   "source": [
    "d = [200,30]\n",
    "# stim_filt, spk_filt, b, stim_se, spk_se, bse = fit_GLM(mod_stim/np.sum(mod_stim,axis=1,keepdims=True),np.expand_dims(binned_spikes[-1,:],0),d)\n",
    "stim_filt, spk_filt, b, stim_se, spk_se, bse, nnll, corr = fit_GLM(mod_stim_start[:,:60000],binned_spikes[ord_idxs[-1],:60000],d)\n"
   ]
  },
  {
   "cell_type": "code",
   "execution_count": 57,
   "metadata": {},
   "outputs": [
    {
     "name": "stdout",
     "output_type": "stream",
     "text": [
      "0.3408264780266385 0.46696208954777746 -2.7532362896759888 0.008321719220741826\n"
     ]
    },
    {
     "data": {
      "image/png": "[encoded data removed]",
      "text/plain": [
       "<Figure size 432x288 with 1 Axes>"
      ]
     },
     "metadata": {},
     "output_type": "display_data"
    }
   ],
   "source": [
    "plt.errorbar(np.arange(d[1])*bin_len,spk_filt,yerr=spk_se)\n",
    "# plt.ylim([-1,1])\n",
    "print nnll,corr,b, bse"
   ]
  },
  {
   "cell_type": "code",
   "execution_count": 28,
   "metadata": {},
   "outputs": [
    {
     "name": "stdout",
     "output_type": "stream",
     "text": [
      "2.2693186106475842 0.07215660171059608\n"
     ]
    },
    {
     "data": {
      "text/plain": [
       "<matplotlib.colorbar.Colorbar at 0x7fa9974d0910>"
      ]
     },
     "execution_count": 28,
     "metadata": {},
     "output_type": "execute_result"
    },
    {
     "data": {
      "image/png": "[encoded data removed]",
      "text/plain": [
       "<Figure size 432x288 with 2 Axes>"
      ]
     },
     "metadata": {},
     "output_type": "display_data"
    }
   ],
   "source": [
    "print stim_filt[0], stim_se[0]\n",
    "plt.imshow(stim_filt[1:].reshape(5,8),cmap='PiYG',vmin=-2,vmax=2)\n",
    "# print stim_filt[-1], stim_se[-1]\n",
    "# plt.imshow(np.sqrt(np.square(stim_filt[0:-1:2])+np.square(stim_filt[1:-1:2])).reshape(5,8))\n",
    "plt.colorbar()\n",
    "\n",
    "# plt.errorbar(np.arange(stim_filt.size),stim_filt,yerr=stim_se)"
   ]
  },
  {
   "cell_type": "code",
   "execution_count": 26,
   "metadata": {},
   "outputs": [
    {
     "data": {
      "text/plain": [
       "<matplotlib.colorbar.Colorbar at 0x7fa9976aae50>"
      ]
     },
     "execution_count": 26,
     "metadata": {},
     "output_type": "execute_result"
    },
    {
     "data": {
      "image/png": "[encoded data removed]",
      "text/plain": [
       "<Figure size 432x288 with 2 Axes>"
      ]
     },
     "metadata": {},
     "output_type": "display_data"
    }
   ],
   "source": [
    "plt.imshow((stim_se[1:]/np.abs(stim_filt[1:])).reshape(5,8), vmin=0, vmax=2,cmap='PiYG')\n",
    "# plt.imshow(np.sqrt(np.square(stim_se[0:-1:2])+np.square(stim_se[1:-1:2])).reshape(5,8))\n",
    "plt.colorbar()"
   ]
  },
  {
   "cell_type": "code",
   "execution_count": null,
   "metadata": {},
   "outputs": [
    {
     "name": "stdout",
     "output_type": "stream",
     "text": [
      "19\n",
      "20\n",
      "21\n",
      "22\n",
      "23\n",
      "24\n"
     ]
    }
   ],
   "source": [
    "import gc\n",
    "split_ind = 280000#-5000\n",
    "# train_nnlls = []\n",
    "# val_nnlls = []\n",
    "for idx in ord_idxs[-30+19:]:\n",
    "    stim_filt, spk_filt, b, stim_se, spk_se, bse, train_nnll = fit_GLM(mod_stim[:,:split_ind]/100,np.expand_dims(binned_spikes[idx,:split_ind],0),d)\n",
    "    train_nnlls.append(train_nnll)\n",
    "    val_nnll = val_GLM(mod_stim[:,split_ind:]/100,np.expand_dims(binned_spikes[idx,split_ind:],0),d,stim_filt, spk_filt, b)\n",
    "    val_nnlls.append(val_nnll)\n",
    "    print len(val_nnlls)\n",
    "    gc.collect()\n",
    "    "
   ]
  },
  {
   "cell_type": "code",
   "execution_count": null,
   "metadata": {},
   "outputs": [],
   "source": [
    "lims = [0,1]\n",
    "plt.plot(val_nnlls,train_nnlls,'o')\n",
    "plt.plot(lims,lims)\n",
    "plt.axis('square')\n",
    "plt.xlim(lims)\n",
    "plt.ylim(lims)\n"
   ]
  },
  {
   "cell_type": "code",
   "execution_count": null,
   "metadata": {},
   "outputs": [],
   "source": [
    "np.savez('drifting_gratings_indivfit1',train_nnlls = np.array(train_nnlls), val_nnlls = np.array(val_nnlls))"
   ]
  },
  {
   "cell_type": "code",
   "execution_count": null,
   "metadata": {},
   "outputs": [],
   "source": []
  }
 ],
 "metadata": {
  "kernelspec": {
   "display_name": "conda_tensorflow_p27",
   "language": "python",
   "name": "conda_tensorflow_p27"
  },
  "language_info": {
   "codemirror_mode": {
    "name": "ipython",
    "version": 2
   },
   "file_extension": ".py",
   "mimetype": "text/x-python",
   "name": "python",
   "nbconvert_exporter": "python",
   "pygments_lexer": "ipython2",
   "version": "2.7.15"
  }
 },
 "nbformat": 4,
 "nbformat_minor": 2
}
