{
 "cells": [
  {
   "cell_type": "code",
   "execution_count": 1,
   "metadata": {},
   "outputs": [],
   "source": [
    "import numpy as np\n",
    "import pandas as pd\n",
    "import os\n",
    "import matplotlib.pyplot as plt\n",
    "import statsmodels.api as sm\n",
    "%matplotlib inline"
   ]
  },
  {
   "cell_type": "code",
   "execution_count": 2,
   "metadata": {},
   "outputs": [],
   "source": [
    "# D = np.load('drifting_gratings_data.npz')\n",
    "D = np.load('static_gratings_data_4ms.npz')\n",
    "binned_spikes = D['binned_spikes']\n",
    "stim = D['stim_array']\n",
    "CCmaxs = D['CCmaxs']\n",
    "bin_len = D['bin_len']\n",
    "\n",
    "D = np.load('cell_types71.npz')\n",
    "cell_types = D['cell_types']"
   ]
  },
  {
   "cell_type": "code",
   "execution_count": 3,
   "metadata": {},
   "outputs": [
    {
     "name": "stdout",
     "output_type": "stream",
     "text": [
      "(array(['exc_VISp_1', 'exc_VISp_5', 'inh_VISp_1', 'inh_VISp_4',\n",
      "       'inh_VISp_5'], dtype='|S10'), array([ 2,  3,  5,  5, 15]))\n",
      "0.970670612248924\n"
     ]
    }
   ],
   "source": [
    "ord_idxs = np.argsort(CCmaxs)[-30:]\n",
    "# ord_idxs = np.concatenate((ord_idxs[:-12],ord_idxs[-11:-6],ord_idxs[-4:]))\n",
    "ord_types = cell_types[ord_idxs]\n",
    "print np.unique(cell_types[ord_idxs],return_counts=True)\n",
    "print CCmaxs[ord_idxs[-1]]"
   ]
  },
  {
   "cell_type": "code",
   "execution_count": 4,
   "metadata": {},
   "outputs": [],
   "source": [
    "#helper functions for fitting GLM models\n",
    "from scipy.stats import pearsonr\n",
    "from scipy.misc import factorial\n",
    "\n",
    "def construct_Xdsn(flat_stimulus, binned_spikes, d):\n",
    "    T = binned_spikes.size # T is number of time bins\n",
    "    sh = flat_stimulus.shape # M is the size of a stimulus\n",
    "    if len(sh)==1:\n",
    "        M = 1\n",
    "        T1 = sh[0]\n",
    "        flat_stimulus = np.expand_dims(flat_stimulus,axis=0)\n",
    "    else:\n",
    "        (M,T1) = sh \n",
    "    \n",
    "    assert T==T1, \"arrays have different number of time samples\"\n",
    "    d1,d2 = d\n",
    "    dmax = max(d)\n",
    "    binned_spikes = np.concatenate((np.zeros((dmax,)),binned_spikes))\n",
    "    flat_stimulus = np.concatenate((np.zeros((M,dmax)),flat_stimulus),axis=1)\n",
    "    T = binned_spikes.size\n",
    "    X_dsn = np.ones((T-dmax,M*d1+d2+1))\n",
    "    for t in range(T-dmax):\n",
    "        X_dsn[t,:M*d1] = flat_stimulus[:,t+dmax+1-d1:t+dmax+1].reshape((1,-1))  #stimulus inputs\n",
    "        X_dsn[t,M*d1:-1] = np.flip(binned_spikes[t+dmax-d2:t+dmax],axis=0).reshape((1,-1)) #spike inputs\n",
    "    return X_dsn\n",
    "\n",
    "def fit_GLM(stim,spks,d,val_stim=None,val_spks=None):\n",
    "    d1,d2 = d\n",
    "    dmax = max(d)\n",
    "    y = spks.reshape([-1,1])\n",
    "    model =  sm.GLM(y,construct_Xdsn(stim,spks,d),family = sm.families.Poisson())\n",
    "    m_it = 200 #24\n",
    "    model_results = model.fit(maxiter=m_it)\n",
    "    print model_results.fit_history['iteration']\n",
    "    conved = m_it!=model_results.fit_history['iteration']\n",
    "    p = model_results.params\n",
    "    se = model_results.bse\n",
    "    b = p[-1]\n",
    "    bse = se[-1]\n",
    "    stim_filt = p[:-1-d2]\n",
    "    stim_se = se[:-1-d2]\n",
    "    spk_filt = p[-1-d2:-1]\n",
    "    spk_se = se[-1-d2:-1]\n",
    "    \n",
    "    t_filt = np.arange(-6,7)\n",
    "    sig = 1.5\n",
    "    filt = np.exp(-np.square(t_filt)/(sig**2*2))\n",
    "    filt = filt/np.sum(filt)\n",
    "    \n",
    "    train_nnll = -model_results.llf/(spks.shape[-1]-dmax)\n",
    "    smooth_spks = np.convolve(spks,filt,mode='same')\n",
    "    train_corr = pearsonr(model.predict(p),smooth_spks)[0]\n",
    "    dev = model_results.deviance\n",
    "#     print dev, 2*(np.sum(-y+y*np.log(y+1e-20)-np.log(factorial(y)))-model_results.llf)\n",
    "    if val_stim is not None:\n",
    "        val_model = sm.GLM(val_spks.reshape([-1,1]),construct_Xdsn(val_stim,val_spks,d),family = sm.families.Poisson())\n",
    "        val_nnll = -val_model.loglike(p)/(spks.shape[-1]-dmax)\n",
    "        smooth_val_spks = np.convolve(val_spks,filt,mode='same')\n",
    "        val_corr = pearsonr(val_model.predict(p),smooth_val_spks)[0]\n",
    "        return stim_filt, spk_filt, b, stim_se, spk_se, bse, train_nnll, train_corr, val_nnll, val_corr, dev, conved\n",
    "    return stim_filt, spk_filt, b, stim_se, spk_se, bse, train_nnll, train_corr, dev, conved\n",
    "\n"
   ]
  },
  {
   "cell_type": "code",
   "execution_count": 5,
   "metadata": {},
   "outputs": [],
   "source": [
    "conds = np.unique(stim,axis=1)  \n",
    "mod_stim = np.zeros((conds.shape[1],stim.shape[1]))\n",
    "for t in range(stim.shape[1]):\n",
    "    ind = np.argwhere(np.all(stim[:,t:t+1]-conds==0,axis=0))\n",
    "    mod_stim[ind,t] = 1"
   ]
  },
  {
   "cell_type": "code",
   "execution_count": 6,
   "metadata": {},
   "outputs": [],
   "source": [
    "\n",
    "# K = 3 # number of harmonics\n",
    "# L = 2*K+1\n",
    "# conds = np.unique(stim,axis=1)  \n",
    "# mod_stim_sin = np.zeros((L*(conds.shape[1]-1),stim.shape[1]))\n",
    "# ind_old = -1\n",
    "# for t in range(stim.shape[1]):\n",
    "#     if stim[0,t]>0:\n",
    "#         ind = np.argwhere(np.all(stim[:,t:t+1]-conds==0,axis=0))\n",
    "#         if ind!=ind_old:\n",
    "#             t0=t\n",
    "#             ind_old=ind\n",
    "#         mod_stim_sin[(ind-1)*L,t] = 1\n",
    "#         for k in range(K):\n",
    "#             mod_stim_sin[(ind-1)*L+2*k+1,t] = np.cos(2.0*np.pi*(k+1)*stim[0,t]*(t-t0)*bin_len)\n",
    "#             mod_stim_sin[(ind-1)*L+2*k+2,t] = np.sin(2.0*np.pi*(k+1)*stim[0,t]*(t-t0)*bin_len)\n",
    "        \n",
    "#     else:\n",
    "#         ind_old = -1"
   ]
  },
  {
   "cell_type": "code",
   "execution_count": 7,
   "metadata": {},
   "outputs": [],
   "source": [
    "mod_stim_start = np.concatenate((np.zeros((mod_stim.shape[0],1)),np.diff(mod_stim,axis=1)),axis=1)>0"
   ]
  },
  {
   "cell_type": "code",
   "execution_count": 69,
   "metadata": {},
   "outputs": [
    {
     "data": {
      "text/plain": [
       "(-0.5, 4999.5, 120.5, -0.5)"
      ]
     },
     "execution_count": 69,
     "metadata": {},
     "output_type": "execute_result"
    },
    {
     "data": {
      "image/png": "[encoded data removed]",
      "text/plain": [
       "<Figure size 432x288 with 1 Axes>"
      ]
     },
     "metadata": {},
     "output_type": "display_data"
    }
   ],
   "source": [
    "# # print np.unique(mod_stim_sin)\n",
    "# x = np.hstack((mod_stim[:,:64000],mod_stim[:,156000:224000],mod_stim[:,316000:]))\n",
    "# # plt.imshow(x,cmap='Greys')\n",
    "plt.imshow(mod_stim[:,int(2280/bin_len):int(2300/bin_len)])\n",
    "# plt.imshow(mod_stim)\n",
    "plt.axis('tight')"
   ]
  },
  {
   "cell_type": "code",
   "execution_count": 71,
   "metadata": {},
   "outputs": [
    {
     "data": {
      "text/plain": [
       "(-0.5, 242499.5, 120.5, -0.5)"
      ]
     },
     "execution_count": 71,
     "metadata": {},
     "output_type": "execute_result"
    },
    {
     "data": {
      "image/png": "[encoded data removed]",
      "text/plain": [
       "<Figure size 432x288 with 1 Axes>"
      ]
     },
     "metadata": {},
     "output_type": "display_data"
    }
   ],
   "source": [
    "# train_inds = np.concatenate((np.arange(int(600/bin_len)),np.arange(int(1600/bin_len),int(2200/bin_len))))\n",
    "train_inds = np.concatenate((np.arange(int(485/bin_len)),np.arange(int(1800/bin_len),int(2285/bin_len))))\n",
    "plt.imshow(mod_stim[:,train_inds])\n",
    "#3210-end\n",
    "plt.axis('tight')"
   ]
  },
  {
   "cell_type": "code",
   "execution_count": 72,
   "metadata": {},
   "outputs": [
    {
     "name": "stdout",
     "output_type": "stream",
     "text": [
      "25\n"
     ]
    }
   ],
   "source": [
    "d = [1,30]\n",
    "# ts = int(600*bin_len)\n",
    "\n",
    "# stim_filt, spk_filt, b, stim_se, spk_se, bse, nnll, corr, dev = fit_GLM(mod_stim[:,:],binned_spikes[ord_idxs[-1],:],d)\n",
    "stim_filt, spk_filt, b, stim_se, spk_se, bse, train_nnll, train_corr, val_nnll, val_corr, dev, conved = fit_GLM(mod_stim[:,train_inds],binned_spikes[ord_idxs[-1],train_inds],d,val_stim = mod_stim[:,int(3200/bin_len):], val_spks = binned_spikes[ord_idxs[-1],int(3200/bin_len):])\n"
   ]
  },
  {
   "cell_type": "code",
   "execution_count": 73,
   "metadata": {},
   "outputs": [
    {
     "name": "stdout",
     "output_type": "stream",
     "text": [
      "0.042099710315369625 0.3769217392853333 -5.2611355437900205 1876.5341551983133\n"
     ]
    },
    {
     "data": {
      "image/png": "[encoded data removed]",
      "text/plain": [
       "<Figure size 432x288 with 1 Axes>"
      ]
     },
     "metadata": {},
     "output_type": "display_data"
    }
   ],
   "source": [
    "plt.errorbar(np.arange(d[1])*bin_len,spk_filt,yerr=spk_se)\n",
    "# plt.ylim([-100,100])\n",
    "print train_nnll, train_corr, b, bse"
   ]
  },
  {
   "cell_type": "code",
   "execution_count": 12,
   "metadata": {},
   "outputs": [],
   "source": [
    "# from scipy.stats import chi2\n",
    "# pval = chi2.sf((dev_noW-dev_W),df=d[1])\n",
    "# print pval"
   ]
  },
  {
   "cell_type": "code",
   "execution_count": 13,
   "metadata": {},
   "outputs": [
    {
     "name": "stdout",
     "output_type": "stream",
     "text": [
      "0.02138898766653108 0.022236227663281857\n"
     ]
    },
    {
     "data": {
      "text/plain": [
       "<matplotlib.colorbar.Colorbar at 0x7f86fee67d90>"
      ]
     },
     "execution_count": 13,
     "metadata": {},
     "output_type": "execute_result"
    },
    {
     "data": {
      "image/png": "[encoded data removed]",
      "text/plain": [
       "<Figure size 432x288 with 2 Axes>"
      ]
     },
     "metadata": {},
     "output_type": "display_data"
    }
   ],
   "source": [
    "print stim_filt[0], stim_se[0]\n",
    "plt.imshow(stim_filt[1:].reshape(5,8),cmap='PiYG',vmin=-.2,vmax=.2)\n",
    "# print stim_filt[-1], stim_se[-1]\n",
    "# plt.imshow(np.sqrt(np.square(stim_filt[0:-1:2])+np.square(stim_filt[1:-1:2])).reshape(5,8))\n",
    "plt.colorbar()\n",
    "\n",
    "# plt.errorbar(np.arange(stim_filt.size),stim_filt,yerr=stim_se)"
   ]
  },
  {
   "cell_type": "code",
   "execution_count": 14,
   "metadata": {},
   "outputs": [
    {
     "data": {
      "text/plain": [
       "<matplotlib.colorbar.Colorbar at 0x7f8701430610>"
      ]
     },
     "execution_count": 14,
     "metadata": {},
     "output_type": "execute_result"
    },
    {
     "data": {
      "image/png": "[encoded data removed]",
      "text/plain": [
       "<Figure size 432x288 with 2 Axes>"
      ]
     },
     "metadata": {},
     "output_type": "display_data"
    }
   ],
   "source": [
    "plt.imshow((stim_se[1:]/np.abs(stim_filt[1:])).reshape(5,8), vmin=0, vmax=2)\n",
    "# plt.imshow(np.sqrt(np.square(stim_se[0:-1:2])+np.square(stim_se[1:-1:2])).reshape(5,8))\n",
    "plt.colorbar()"
   ]
  },
  {
   "cell_type": "code",
   "execution_count": 75,
   "metadata": {},
   "outputs": [
    {
     "ename": "MemoryError",
     "evalue": "",
     "output_type": "error",
     "traceback": [
      "\u001b[0;31m\u001b[0m",
      "\u001b[0;31mMemoryError\u001b[0mTraceback (most recent call last)",
      "\u001b[0;32m<ipython-input-75-9e04eade767a>\u001b[0m in \u001b[0;36m<module>\u001b[0;34m()\u001b[0m\n\u001b[1;32m     11\u001b[0m \u001b[0md\u001b[0m \u001b[0;34m=\u001b[0m \u001b[0;34m[\u001b[0m\u001b[0;36m1\u001b[0m\u001b[0;34m,\u001b[0m\u001b[0;36m10\u001b[0m\u001b[0;34m]\u001b[0m\u001b[0;34m\u001b[0m\u001b[0m\n\u001b[1;32m     12\u001b[0m \u001b[0;32mfor\u001b[0m \u001b[0midx\u001b[0m \u001b[0;32min\u001b[0m \u001b[0mord_idxs\u001b[0m\u001b[0;34m:\u001b[0m\u001b[0;34m\u001b[0m\u001b[0m\n\u001b[0;32m---> 13\u001b[0;31m     \u001b[0mstim_filt\u001b[0m\u001b[0;34m,\u001b[0m \u001b[0mspk_filt\u001b[0m\u001b[0;34m,\u001b[0m \u001b[0mb\u001b[0m\u001b[0;34m,\u001b[0m \u001b[0mstim_se\u001b[0m\u001b[0;34m,\u001b[0m \u001b[0mspk_se\u001b[0m\u001b[0;34m,\u001b[0m \u001b[0mbse\u001b[0m\u001b[0;34m,\u001b[0m \u001b[0mtrain_nnll\u001b[0m\u001b[0;34m,\u001b[0m \u001b[0mtrain_corr\u001b[0m\u001b[0;34m,\u001b[0m \u001b[0mval_nnll\u001b[0m\u001b[0;34m,\u001b[0m \u001b[0mval_corr\u001b[0m\u001b[0;34m,\u001b[0m \u001b[0mdev\u001b[0m\u001b[0;34m,\u001b[0m \u001b[0mconved\u001b[0m \u001b[0;34m=\u001b[0m \u001b[0mfit_GLM\u001b[0m\u001b[0;34m(\u001b[0m\u001b[0mmod_stim\u001b[0m\u001b[0;34m[\u001b[0m\u001b[0;34m:\u001b[0m\u001b[0;34m,\u001b[0m\u001b[0mtrain_inds\u001b[0m\u001b[0;34m]\u001b[0m\u001b[0;34m,\u001b[0m\u001b[0mbinned_spikes\u001b[0m\u001b[0;34m[\u001b[0m\u001b[0midx\u001b[0m\u001b[0;34m,\u001b[0m\u001b[0mtrain_inds\u001b[0m\u001b[0;34m]\u001b[0m\u001b[0;34m,\u001b[0m\u001b[0md\u001b[0m\u001b[0;34m,\u001b[0m\u001b[0mval_stim\u001b[0m \u001b[0;34m=\u001b[0m \u001b[0mmod_stim\u001b[0m\u001b[0;34m[\u001b[0m\u001b[0;34m:\u001b[0m\u001b[0;34m,\u001b[0m\u001b[0mint\u001b[0m\u001b[0;34m(\u001b[0m\u001b[0;36m3200\u001b[0m\u001b[0;34m/\u001b[0m\u001b[0mbin_len\u001b[0m\u001b[0;34m)\u001b[0m\u001b[0;34m:\u001b[0m\u001b[0;34m]\u001b[0m\u001b[0;34m,\u001b[0m \u001b[0mval_spks\u001b[0m \u001b[0;34m=\u001b[0m \u001b[0mbinned_spikes\u001b[0m\u001b[0;34m[\u001b[0m\u001b[0midx\u001b[0m\u001b[0;34m,\u001b[0m\u001b[0mint\u001b[0m\u001b[0;34m(\u001b[0m\u001b[0;36m3200\u001b[0m\u001b[0;34m/\u001b[0m\u001b[0mbin_len\u001b[0m\u001b[0;34m)\u001b[0m\u001b[0;34m:\u001b[0m\u001b[0;34m]\u001b[0m\u001b[0;34m)\u001b[0m\u001b[0;34m\u001b[0m\u001b[0m\n\u001b[0m\u001b[1;32m     14\u001b[0m     \u001b[0mFs\u001b[0m\u001b[0;34m.\u001b[0m\u001b[0mappend\u001b[0m\u001b[0;34m(\u001b[0m\u001b[0mstim_filt\u001b[0m\u001b[0;34m)\u001b[0m\u001b[0;34m\u001b[0m\u001b[0m\n\u001b[1;32m     15\u001b[0m     \u001b[0mWs\u001b[0m\u001b[0;34m.\u001b[0m\u001b[0mappend\u001b[0m\u001b[0;34m(\u001b[0m\u001b[0mspk_filt\u001b[0m\u001b[0;34m)\u001b[0m\u001b[0;34m\u001b[0m\u001b[0m\n",
      "\u001b[0;32m<ipython-input-4-63213e574de8>\u001b[0m in \u001b[0;36mfit_GLM\u001b[0;34m(stim, spks, d, val_stim, val_spks)\u001b[0m\n\u001b[1;32m     25\u001b[0m     \u001b[0mmodel\u001b[0m \u001b[0;34m=\u001b[0m  \u001b[0msm\u001b[0m\u001b[0;34m.\u001b[0m\u001b[0mGLM\u001b[0m\u001b[0;34m(\u001b[0m\u001b[0my\u001b[0m\u001b[0;34m,\u001b[0m\u001b[0mconstruct_Xdsn\u001b[0m\u001b[0;34m(\u001b[0m\u001b[0mstim\u001b[0m\u001b[0;34m,\u001b[0m\u001b[0mspks\u001b[0m\u001b[0;34m,\u001b[0m\u001b[0md\u001b[0m\u001b[0;34m)\u001b[0m\u001b[0;34m,\u001b[0m\u001b[0mfamily\u001b[0m \u001b[0;34m=\u001b[0m \u001b[0msm\u001b[0m\u001b[0;34m.\u001b[0m\u001b[0mfamilies\u001b[0m\u001b[0;34m.\u001b[0m\u001b[0mPoisson\u001b[0m\u001b[0;34m(\u001b[0m\u001b[0;34m)\u001b[0m\u001b[0;34m)\u001b[0m\u001b[0;34m\u001b[0m\u001b[0m\n\u001b[1;32m     26\u001b[0m     \u001b[0mm_it\u001b[0m \u001b[0;34m=\u001b[0m \u001b[0;36m200\u001b[0m \u001b[0;31m#24\u001b[0m\u001b[0;34m\u001b[0m\u001b[0m\n\u001b[0;32m---> 27\u001b[0;31m     \u001b[0mmodel_results\u001b[0m \u001b[0;34m=\u001b[0m \u001b[0mmodel\u001b[0m\u001b[0;34m.\u001b[0m\u001b[0mfit\u001b[0m\u001b[0;34m(\u001b[0m\u001b[0mmaxiter\u001b[0m\u001b[0;34m=\u001b[0m\u001b[0mm_it\u001b[0m\u001b[0;34m)\u001b[0m\u001b[0;34m\u001b[0m\u001b[0m\n\u001b[0m\u001b[1;32m     28\u001b[0m     \u001b[0;32mprint\u001b[0m \u001b[0mmodel_results\u001b[0m\u001b[0;34m.\u001b[0m\u001b[0mfit_history\u001b[0m\u001b[0;34m[\u001b[0m\u001b[0;34m'iteration'\u001b[0m\u001b[0;34m]\u001b[0m\u001b[0;34m\u001b[0m\u001b[0m\n\u001b[1;32m     29\u001b[0m     \u001b[0mconved\u001b[0m \u001b[0;34m=\u001b[0m \u001b[0mm_it\u001b[0m\u001b[0;34m!=\u001b[0m\u001b[0mmodel_results\u001b[0m\u001b[0;34m.\u001b[0m\u001b[0mfit_history\u001b[0m\u001b[0;34m[\u001b[0m\u001b[0;34m'iteration'\u001b[0m\u001b[0;34m]\u001b[0m\u001b[0;34m\u001b[0m\u001b[0m\n",
      "\u001b[0;32m/home/ec2-user/anaconda3/envs/tensorflow_p27/lib/python2.7/site-packages/statsmodels/genmod/generalized_linear_model.pyc\u001b[0m in \u001b[0;36mfit\u001b[0;34m(self, start_params, maxiter, method, tol, scale, cov_type, cov_kwds, use_t, full_output, disp, max_start_irls, **kwargs)\u001b[0m\n\u001b[1;32m   1010\u001b[0m             return self._fit_irls(start_params=start_params, maxiter=maxiter,\n\u001b[1;32m   1011\u001b[0m                                   \u001b[0mtol\u001b[0m\u001b[0;34m=\u001b[0m\u001b[0mtol\u001b[0m\u001b[0;34m,\u001b[0m \u001b[0mscale\u001b[0m\u001b[0;34m=\u001b[0m\u001b[0mscale\u001b[0m\u001b[0;34m,\u001b[0m \u001b[0mcov_type\u001b[0m\u001b[0;34m=\u001b[0m\u001b[0mcov_type\u001b[0m\u001b[0;34m,\u001b[0m\u001b[0;34m\u001b[0m\u001b[0m\n\u001b[0;32m-> 1012\u001b[0;31m                                   cov_kwds=cov_kwds, use_t=use_t, **kwargs)\n\u001b[0m\u001b[1;32m   1013\u001b[0m         \u001b[0;32melse\u001b[0m\u001b[0;34m:\u001b[0m\u001b[0;34m\u001b[0m\u001b[0m\n\u001b[1;32m   1014\u001b[0m             \u001b[0mself\u001b[0m\u001b[0;34m.\u001b[0m\u001b[0m_optim_hessian\u001b[0m \u001b[0;34m=\u001b[0m \u001b[0mkwargs\u001b[0m\u001b[0;34m.\u001b[0m\u001b[0mget\u001b[0m\u001b[0;34m(\u001b[0m\u001b[0;34m'optim_hessian'\u001b[0m\u001b[0;34m)\u001b[0m\u001b[0;34m\u001b[0m\u001b[0m\n",
      "\u001b[0;32m/home/ec2-user/anaconda3/envs/tensorflow_p27/lib/python2.7/site-packages/statsmodels/genmod/generalized_linear_model.pyc\u001b[0m in \u001b[0;36m_fit_irls\u001b[0;34m(self, start_params, maxiter, tol, scale, cov_type, cov_kwds, use_t, **kwargs)\u001b[0m\n\u001b[1;32m   1131\u001b[0m                     \u001b[0mwlsendog\u001b[0m\u001b[0;34m,\u001b[0m\u001b[0;34m\u001b[0m\u001b[0m\n\u001b[1;32m   1132\u001b[0m                     \u001b[0mwlsexog\u001b[0m\u001b[0;34m,\u001b[0m\u001b[0;34m\u001b[0m\u001b[0m\n\u001b[0;32m-> 1133\u001b[0;31m                     self.weights).fit(method=wls_method)\n\u001b[0m\u001b[1;32m   1134\u001b[0m             \u001b[0mlin_pred\u001b[0m \u001b[0;34m=\u001b[0m \u001b[0mnp\u001b[0m\u001b[0;34m.\u001b[0m\u001b[0mdot\u001b[0m\u001b[0;34m(\u001b[0m\u001b[0mself\u001b[0m\u001b[0;34m.\u001b[0m\u001b[0mexog\u001b[0m\u001b[0;34m,\u001b[0m \u001b[0mwls_results\u001b[0m\u001b[0;34m.\u001b[0m\u001b[0mparams\u001b[0m\u001b[0;34m)\u001b[0m\u001b[0;34m\u001b[0m\u001b[0m\n\u001b[1;32m   1135\u001b[0m             \u001b[0mlin_pred\u001b[0m \u001b[0;34m+=\u001b[0m \u001b[0mself\u001b[0m\u001b[0;34m.\u001b[0m\u001b[0m_offset_exposure\u001b[0m\u001b[0;34m\u001b[0m\u001b[0m\n",
      "\u001b[0;32m/home/ec2-user/anaconda3/envs/tensorflow_p27/lib/python2.7/site-packages/statsmodels/regression/_tools.pyc\u001b[0m in \u001b[0;36mfit\u001b[0;34m(self, method)\u001b[0m\n\u001b[1;32m     91\u001b[0m         \u001b[0;32melse\u001b[0m\u001b[0;34m:\u001b[0m\u001b[0;34m\u001b[0m\u001b[0m\n\u001b[1;32m     92\u001b[0m             params, _, _, _ = np.linalg.lstsq(self.wexog, self.wendog,\n\u001b[0;32m---> 93\u001b[0;31m                                               rcond=-1)\n\u001b[0m\u001b[1;32m     94\u001b[0m \u001b[0;34m\u001b[0m\u001b[0m\n\u001b[1;32m     95\u001b[0m         \u001b[0mfitted_values\u001b[0m \u001b[0;34m=\u001b[0m \u001b[0mself\u001b[0m\u001b[0;34m.\u001b[0m\u001b[0mexog\u001b[0m\u001b[0;34m.\u001b[0m\u001b[0mdot\u001b[0m\u001b[0;34m(\u001b[0m\u001b[0mparams\u001b[0m\u001b[0;34m)\u001b[0m\u001b[0;34m\u001b[0m\u001b[0m\n",
      "\u001b[0;32m/home/ec2-user/anaconda3/envs/tensorflow_p27/lib/python2.7/site-packages/numpy/linalg/linalg.pyc\u001b[0m in \u001b[0;36mlstsq\u001b[0;34m(a, b, rcond)\u001b[0m\n\u001b[1;32m   2004\u001b[0m     \u001b[0mbstar\u001b[0m \u001b[0;34m=\u001b[0m \u001b[0mzeros\u001b[0m\u001b[0;34m(\u001b[0m\u001b[0;34m(\u001b[0m\u001b[0mldb\u001b[0m\u001b[0;34m,\u001b[0m \u001b[0mn_rhs\u001b[0m\u001b[0;34m)\u001b[0m\u001b[0;34m,\u001b[0m \u001b[0mt\u001b[0m\u001b[0;34m)\u001b[0m\u001b[0;34m\u001b[0m\u001b[0m\n\u001b[1;32m   2005\u001b[0m     \u001b[0mbstar\u001b[0m\u001b[0;34m[\u001b[0m\u001b[0;34m:\u001b[0m\u001b[0mm\u001b[0m\u001b[0;34m,\u001b[0m \u001b[0;34m:\u001b[0m\u001b[0mn_rhs\u001b[0m\u001b[0;34m]\u001b[0m \u001b[0;34m=\u001b[0m \u001b[0mb\u001b[0m\u001b[0;34m\u001b[0m\u001b[0m\n\u001b[0;32m-> 2006\u001b[0;31m     \u001b[0ma\u001b[0m\u001b[0;34m,\u001b[0m \u001b[0mbstar\u001b[0m \u001b[0;34m=\u001b[0m \u001b[0m_fastCopyAndTranspose\u001b[0m\u001b[0;34m(\u001b[0m\u001b[0mt\u001b[0m\u001b[0;34m,\u001b[0m \u001b[0ma\u001b[0m\u001b[0;34m,\u001b[0m \u001b[0mbstar\u001b[0m\u001b[0;34m)\u001b[0m\u001b[0;34m\u001b[0m\u001b[0m\n\u001b[0m\u001b[1;32m   2007\u001b[0m     \u001b[0ma\u001b[0m\u001b[0;34m,\u001b[0m \u001b[0mbstar\u001b[0m \u001b[0;34m=\u001b[0m \u001b[0m_to_native_byte_order\u001b[0m\u001b[0;34m(\u001b[0m\u001b[0ma\u001b[0m\u001b[0;34m,\u001b[0m \u001b[0mbstar\u001b[0m\u001b[0;34m)\u001b[0m\u001b[0;34m\u001b[0m\u001b[0m\n\u001b[1;32m   2008\u001b[0m     \u001b[0ms\u001b[0m \u001b[0;34m=\u001b[0m \u001b[0mzeros\u001b[0m\u001b[0;34m(\u001b[0m\u001b[0;34m(\u001b[0m\u001b[0mmin\u001b[0m\u001b[0;34m(\u001b[0m\u001b[0mm\u001b[0m\u001b[0;34m,\u001b[0m \u001b[0mn\u001b[0m\u001b[0;34m)\u001b[0m\u001b[0;34m,\u001b[0m\u001b[0;34m)\u001b[0m\u001b[0;34m,\u001b[0m \u001b[0mreal_t\u001b[0m\u001b[0;34m)\u001b[0m\u001b[0;34m\u001b[0m\u001b[0m\n",
      "\u001b[0;32m/home/ec2-user/anaconda3/envs/tensorflow_p27/lib/python2.7/site-packages/numpy/linalg/linalg.pyc\u001b[0m in \u001b[0;36m_fastCopyAndTranspose\u001b[0;34m(type, *arrays)\u001b[0m\n\u001b[1;32m    181\u001b[0m     \u001b[0;32mfor\u001b[0m \u001b[0ma\u001b[0m \u001b[0;32min\u001b[0m \u001b[0marrays\u001b[0m\u001b[0;34m:\u001b[0m\u001b[0;34m\u001b[0m\u001b[0m\n\u001b[1;32m    182\u001b[0m         \u001b[0;32mif\u001b[0m \u001b[0ma\u001b[0m\u001b[0;34m.\u001b[0m\u001b[0mdtype\u001b[0m\u001b[0;34m.\u001b[0m\u001b[0mtype\u001b[0m \u001b[0;32mis\u001b[0m \u001b[0mtype\u001b[0m\u001b[0;34m:\u001b[0m\u001b[0;34m\u001b[0m\u001b[0m\n\u001b[0;32m--> 183\u001b[0;31m             \u001b[0mcast_arrays\u001b[0m \u001b[0;34m=\u001b[0m \u001b[0mcast_arrays\u001b[0m \u001b[0;34m+\u001b[0m \u001b[0;34m(\u001b[0m\u001b[0m_fastCT\u001b[0m\u001b[0;34m(\u001b[0m\u001b[0ma\u001b[0m\u001b[0;34m)\u001b[0m\u001b[0;34m,\u001b[0m\u001b[0;34m)\u001b[0m\u001b[0;34m\u001b[0m\u001b[0m\n\u001b[0m\u001b[1;32m    184\u001b[0m         \u001b[0;32melse\u001b[0m\u001b[0;34m:\u001b[0m\u001b[0;34m\u001b[0m\u001b[0m\n\u001b[1;32m    185\u001b[0m             \u001b[0mcast_arrays\u001b[0m \u001b[0;34m=\u001b[0m \u001b[0mcast_arrays\u001b[0m \u001b[0;34m+\u001b[0m \u001b[0;34m(\u001b[0m\u001b[0m_fastCT\u001b[0m\u001b[0;34m(\u001b[0m\u001b[0ma\u001b[0m\u001b[0;34m.\u001b[0m\u001b[0mastype\u001b[0m\u001b[0;34m(\u001b[0m\u001b[0mtype\u001b[0m\u001b[0;34m)\u001b[0m\u001b[0;34m)\u001b[0m\u001b[0;34m,\u001b[0m\u001b[0;34m)\u001b[0m\u001b[0;34m\u001b[0m\u001b[0m\n",
      "\u001b[0;31mMemoryError\u001b[0m: "
     ]
    }
   ],
   "source": [
    "import gc\n",
    "train_nnlls = []\n",
    "val_nnlls = []\n",
    "train_corrs = []\n",
    "val_corrs = []\n",
    "devs = []\n",
    "conveds = []\n",
    "Ws = []\n",
    "Fs = []\n",
    "bs = []\n",
    "d = [1,10]\n",
    "for idx in ord_idxs:\n",
    "    stim_filt, spk_filt, b, stim_se, spk_se, bse, train_nnll, train_corr, val_nnll, val_corr, dev, conved = fit_GLM(mod_stim[:,train_inds],binned_spikes[idx,train_inds],d,val_stim = mod_stim[:,int(3200/bin_len):], val_spks = binned_spikes[idx,int(3200/bin_len):])\n",
    "    Fs.append(stim_filt)\n",
    "    Ws.append(spk_filt)\n",
    "    bs.append(b)\n",
    "    train_nnlls.append(train_nnll)\n",
    "    val_nnlls.append(val_nnll)\n",
    "    train_corrs.append(train_corr)\n",
    "    val_corrs.append(val_corr)\n",
    "    devs.append(dev)\n",
    "    conveds.append(conved)\n",
    "    gc.collect()\n",
    "    "
   ]
  },
  {
   "cell_type": "code",
   "execution_count": 26,
   "metadata": {},
   "outputs": [
    {
     "name": "stdout",
     "output_type": "stream",
     "text": [
      "0\n"
     ]
    },
    {
     "data": {
      "text/plain": [
       "(0, 1)"
      ]
     },
     "execution_count": 26,
     "metadata": {},
     "output_type": "execute_result"
    },
    {
     "data": {
      "image/png": "[encoded data removed]",
      "text/plain": [
       "<Figure size 432x288 with 1 Axes>"
      ]
     },
     "metadata": {},
     "output_type": "display_data"
    }
   ],
   "source": [
    "lims = [0,1]\n",
    "print np.array(val_nnlls)[np.array(conveds)==True].size\n",
    "plt.plot(np.array(val_nnlls)[np.array(conveds)==True],np.array(train_nnlls)[np.array(conveds)==True],'o')\n",
    "plt.plot(lims,lims)\n",
    "plt.axis('square')\n",
    "plt.xlim(lims)\n",
    "plt.ylim(lims)\n"
   ]
  },
  {
   "cell_type": "code",
   "execution_count": 51,
   "metadata": {},
   "outputs": [],
   "source": [
    "np.savez('driftinggs_noW_sm',train_losses = np.array(train_nnlls), val_losses = np.array(val_nnlls), train_corrs = np.array(train_corrs), val_corrs = np.array(val_corrs), devs = np.array(devs), conveds = np.array(conveds))\n"
   ]
  },
  {
   "cell_type": "code",
   "execution_count": null,
   "metadata": {},
   "outputs": [],
   "source": []
  }
 ],
 "metadata": {
  "kernelspec": {
   "display_name": "conda_tensorflow_p27",
   "language": "python",
   "name": "conda_tensorflow_p27"
  },
  "language_info": {
   "codemirror_mode": {
    "name": "ipython",
    "version": 2
   },
   "file_extension": ".py",
   "mimetype": "text/x-python",
   "name": "python",
   "nbconvert_exporter": "python",
   "pygments_lexer": "ipython2",
   "version": "2.7.15"
  }
 },
 "nbformat": 4,
 "nbformat_minor": 2
}
